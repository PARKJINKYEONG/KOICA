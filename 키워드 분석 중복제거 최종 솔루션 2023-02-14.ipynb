{
 "cells": [
  {
   "cell_type": "code",
   "execution_count": 1,
   "id": "d0b06523",
   "metadata": {},
   "outputs": [
    {
     "name": "stdout",
     "output_type": "stream",
     "text": [
      "C:\\\\Program Files\\\\Java\\\\jdk-18.0.2\\\\bin\\\\server\n"
     ]
    }
   ],
   "source": [
    "import os\n",
    "os.environ['JAVA_HOME'] = r'C:\\\\Program Files\\\\Java\\\\jdk-18.0.2\\\\bin\\\\server'\n",
    "print(os.environ.get('JAVA_HOME'))\n",
    "#자바환경변수 설정"
   ]
  },
  {
   "cell_type": "code",
   "execution_count": 2,
   "id": "34f34ca4",
   "metadata": {},
   "outputs": [
    {
     "name": "stdout",
     "output_type": "stream",
     "text": [
      "Requirement already satisfied: pip in c:\\users\\user\\anaconda3\\lib\\site-packages (23.0)\n",
      "Note: you may need to restart the kernel to use updated packages.\n"
     ]
    }
   ],
   "source": [
    "pip install --upgrade pip"
   ]
  },
  {
   "cell_type": "code",
   "execution_count": 3,
   "id": "1ea8f286",
   "metadata": {},
   "outputs": [
    {
     "name": "stdout",
     "output_type": "stream",
     "text": [
      "Note: you may need to restart the kernel to use updated packages.\n"
     ]
    },
    {
     "name": "stderr",
     "output_type": "stream",
     "text": [
      "WARNING: Requirement 'JPype1\\u20111.4.0\\u2011cp310\\u2011cp310\\u2011win_amd64.whl' looks like a filename, but the file does not exist\n",
      "ERROR: JPype1\\u20111.4.0\\u2011cp310\\u2011cp310\\u2011win_amd64.whl is not a valid wheel filename.\n"
     ]
    }
   ],
   "source": [
    "pip install JPype1‑1.4.0‑cp310‑cp310‑win_amd64.whl"
   ]
  },
  {
   "cell_type": "code",
   "execution_count": 4,
   "id": "e31e31e7",
   "metadata": {},
   "outputs": [
    {
     "name": "stdout",
     "output_type": "stream",
     "text": [
      "Note: you may need to restart the kernel to use updated packages.\n"
     ]
    },
    {
     "name": "stderr",
     "output_type": "stream",
     "text": [
      "WARNING: Requirement 'mecab_python-0.996_ko_0.9.2_msvc-cp37-cp37m-win_amd64.whl' looks like a filename, but the file does not exist\n",
      "ERROR: mecab_python-0.996_ko_0.9.2_msvc-cp37-cp37m-win_amd64.whl is not a supported wheel on this platform.\n"
     ]
    }
   ],
   "source": [
    "pip install mecab_python-0.996_ko_0.9.2_msvc-cp37-cp37m-win_amd64.whl"
   ]
  },
  {
   "cell_type": "code",
   "execution_count": 5,
   "id": "81c83ddc",
   "metadata": {},
   "outputs": [
    {
     "name": "stdout",
     "output_type": "stream",
     "text": [
      "Note: you may need to restart the kernel to use updated packages.\n"
     ]
    },
    {
     "name": "stderr",
     "output_type": "stream",
     "text": [
      "ERROR: Invalid requirement: '#패키지'\n"
     ]
    }
   ],
   "source": [
    "pip install customized_konlpy #패키지 설치"
   ]
  },
  {
   "cell_type": "code",
   "execution_count": 6,
   "id": "73c8263a",
   "metadata": {},
   "outputs": [
    {
     "name": "stdout",
     "output_type": "stream",
     "text": [
      "Requirement already satisfied: PyKomoran in c:\\users\\user\\anaconda3\\lib\\site-packages (0.1.6.post1)\n",
      "Requirement already satisfied: py4j==0.10.9.2 in c:\\users\\user\\anaconda3\\lib\\site-packages (from PyKomoran) (0.10.9.2)\n",
      "Note: you may need to restart the kernel to use updated packages.\n"
     ]
    }
   ],
   "source": [
    "pip install PyKomoran "
   ]
  },
  {
   "cell_type": "markdown",
   "id": "f7aafaa6",
   "metadata": {},
   "source": [
    "# 빈도수 계산"
   ]
  },
  {
   "cell_type": "code",
   "execution_count": 7,
   "id": "8124cbe0",
   "metadata": {
    "scrolled": true
   },
   "outputs": [
    {
     "name": "stderr",
     "output_type": "stream",
     "text": [
      "C:\\Users\\user\\anaconda3\\lib\\site-packages\\konlpy\\tag\\_okt.py:17: UserWarning: \"Twitter\" has changed to \"Okt\" since KoNLPy v0.4.5.\n",
      "  warn('\"Twitter\" has changed to \"Okt\" since KoNLPy v0.4.5.')\n"
     ]
    },
    {
     "data": {
      "text/html": [
       "<div>\n",
       "<style scoped>\n",
       "    .dataframe tbody tr th:only-of-type {\n",
       "        vertical-align: middle;\n",
       "    }\n",
       "\n",
       "    .dataframe tbody tr th {\n",
       "        vertical-align: top;\n",
       "    }\n",
       "\n",
       "    .dataframe thead th {\n",
       "        text-align: right;\n",
       "    }\n",
       "</style>\n",
       "<table border=\"1\" class=\"dataframe\">\n",
       "  <thead>\n",
       "    <tr style=\"text-align: right;\">\n",
       "      <th></th>\n",
       "      <th>20년</th>\n",
       "    </tr>\n",
       "  </thead>\n",
       "  <tbody>\n",
       "    <tr>\n",
       "      <th>지원</th>\n",
       "      <td>521</td>\n",
       "    </tr>\n",
       "    <tr>\n",
       "      <th>단원</th>\n",
       "      <td>416</td>\n",
       "    </tr>\n",
       "    <tr>\n",
       "      <th>파견</th>\n",
       "      <td>369</td>\n",
       "    </tr>\n",
       "    <tr>\n",
       "      <th>코로나</th>\n",
       "      <td>357</td>\n",
       "    </tr>\n",
       "    <tr>\n",
       "      <th>봉사단</th>\n",
       "      <td>343</td>\n",
       "    </tr>\n",
       "    <tr>\n",
       "      <th>교육</th>\n",
       "      <td>333</td>\n",
       "    </tr>\n",
       "    <tr>\n",
       "      <th>귀국</th>\n",
       "      <td>329</td>\n",
       "    </tr>\n",
       "    <tr>\n",
       "      <th>프로그램</th>\n",
       "      <td>315</td>\n",
       "    </tr>\n",
       "    <tr>\n",
       "      <th>직원</th>\n",
       "      <td>238</td>\n",
       "    </tr>\n",
       "    <tr>\n",
       "      <th>제공</th>\n",
       "      <td>222</td>\n",
       "    </tr>\n",
       "    <tr>\n",
       "      <th>기간</th>\n",
       "      <td>207</td>\n",
       "    </tr>\n",
       "    <tr>\n",
       "      <th>경험</th>\n",
       "      <td>206</td>\n",
       "    </tr>\n",
       "    <tr>\n",
       "      <th>개발</th>\n",
       "      <td>205</td>\n",
       "    </tr>\n",
       "    <tr>\n",
       "      <th>일시</th>\n",
       "      <td>199</td>\n",
       "    </tr>\n",
       "    <tr>\n",
       "      <th>서비스</th>\n",
       "      <td>190</td>\n",
       "    </tr>\n",
       "    <tr>\n",
       "      <th>계속</th>\n",
       "      <td>174</td>\n",
       "    </tr>\n",
       "    <tr>\n",
       "      <th>참여</th>\n",
       "      <td>165</td>\n",
       "    </tr>\n",
       "    <tr>\n",
       "      <th>개선</th>\n",
       "      <td>157</td>\n",
       "    </tr>\n",
       "    <tr>\n",
       "      <th>수행</th>\n",
       "      <td>151</td>\n",
       "    </tr>\n",
       "    <tr>\n",
       "      <th>기회</th>\n",
       "      <td>148</td>\n",
       "    </tr>\n",
       "  </tbody>\n",
       "</table>\n",
       "</div>"
      ],
      "text/plain": [
       "      20년\n",
       "지원    521\n",
       "단원    416\n",
       "파견    369\n",
       "코로나   357\n",
       "봉사단   343\n",
       "교육    333\n",
       "귀국    329\n",
       "프로그램  315\n",
       "직원    238\n",
       "제공    222\n",
       "기간    207\n",
       "경험    206\n",
       "개발    205\n",
       "일시    199\n",
       "서비스   190\n",
       "계속    174\n",
       "참여    165\n",
       "개선    157\n",
       "수행    151\n",
       "기회    148"
      ]
     },
     "execution_count": 7,
     "metadata": {},
     "output_type": "execute_result"
    }
   ],
   "source": [
    "import ckonlpy.tag\n",
    "from ckonlpy.tag import *\n",
    "\n",
    "twitter=Twitter()\n",
    "\n",
    "twitter.add_dictionary(['지원서', '봉사단'], 'Noun') #텍스트 분석할 때 특정 단어 리스트 추가하기\n",
    "\n",
    "import re\n",
    "import networkx as nx\n",
    "import pandas as pd\n",
    "import numpy as np\n",
    "import datetime\n",
    "from collections import Counter\n",
    "from datetime import datetime\n",
    "import datetime\n",
    "import matplotlib.pyplot as plt\n",
    "%matplotlib inline\n",
    "import seaborn as sns\n",
    "\n",
    "df = pd.read_csv('2020년 키워드 분석 프로그램 샘플중복제거.csv', encoding='cp949') # csv 파일 불러와서 df로 저장\n",
    "\n",
    "dff = df[['문의세부내용','답변세부내용','대응부서']].fillna(\"\") # 해당 컬럼만 추출하여 dff로 저장 , fillna 결측치 채우기       \n",
    "\n",
    "\n",
    "# 대응부서 별로 카운트하고 싶으면 이렇게 코드 작성 : dff['대응부서'].value_counts() \n",
    "\n",
    "stopwords=pd.read_csv('코이카_불용어.csv',encoding='cp949') \n",
    "stop_words_list=[i for i in stopwords['문의']] # 리스트 불러오기\n",
    "\n",
    "stopwords=pd.read_csv('코이카_불용어.csv', encoding='cp949', header=None)\n",
    "\n",
    "minwon_contents = dff.get('문의세부내용') # get 해당 컬럼 추출\n",
    "minwon_answers=dff.get('답변세부내용')\n",
    "minwon=pd.concat([minwon_contents,minwon_answers],axis=0) #concat 합치기\n",
    "\n",
    "# 형태소 분석\n",
    "from re import match # 전처리 위해서 정규표현식 관련 re 패키지 import\n",
    "\n",
    "result=[] #result 리스트에 담기\n",
    "\n",
    "for sent in minwon_contents:\n",
    "    nouns = []\n",
    "    for noun in twitter.nouns(sent) :\n",
    "        # 단어 전처리 : 2음절 이상, 수사 제외\n",
    "        if len(str(noun)) >= 2 and not(match('^[0-9]', noun)) :\n",
    "            nouns.append(noun) # append() 추가하는 것 즉 nouns 리스트에 명사 추가\n",
    "    result.append(list(set(nouns)))\n",
    "\n",
    "result1=sum(result, []) #[]안의 리스트 합치기\n",
    "\n",
    "nouns2=[]\n",
    "for noun in result1:\n",
    "    # 불용어 제외하기\n",
    "    if str(noun) not in stop_words_list:\n",
    "        nouns2.append(noun)\n",
    "\n",
    "# 상위 20개 추출\n",
    "from collections import Counter\n",
    "num=20\n",
    "nouns_counter = Counter(nouns2) # 카운트하기\n",
    "minwon_top_nouns=dict(nouns_counter.most_common(num)) # num값 만큼 추출 개수를 내림차순 상위 20개 \n",
    "\n",
    "df2=pd.DataFrame([nouns_counter])\n",
    "df2.rename(index={0: \"20년\"}, inplace=True) # 첫 행 이름을 20년으로 설정하기\n",
    "df3=df2.sort_values(by=\"20년\", axis=1, ascending=False) # 20년 내림차순으로 정렬\n",
    "\n",
    "df2.to_csv('2020년 키워드 분석 프로그램 샘플 빈도수 최종.csv', encoding='cp949') # csv파일로 저장\n",
    "df3.T[:20].to_csv('2020년 키워드 분석 프로그램 샘플 빈도수 상위 20개.csv',encoding='cp949') \n",
    "# dft.T[:20]은 상위 20개 파일 불러오는 것\n",
    "df3.T[:20]"
   ]
  },
  {
   "cell_type": "markdown",
   "id": "6fdd16c0",
   "metadata": {},
   "source": [
    "# 증감률 계산"
   ]
  },
  {
   "cell_type": "code",
   "execution_count": 11,
   "id": "bd98d2a9",
   "metadata": {},
   "outputs": [
    {
     "data": {
      "text/html": [
       "<div>\n",
       "<style scoped>\n",
       "    .dataframe tbody tr th:only-of-type {\n",
       "        vertical-align: middle;\n",
       "    }\n",
       "\n",
       "    .dataframe tbody tr th {\n",
       "        vertical-align: top;\n",
       "    }\n",
       "\n",
       "    .dataframe thead th {\n",
       "        text-align: right;\n",
       "    }\n",
       "</style>\n",
       "<table border=\"1\" class=\"dataframe\">\n",
       "  <thead>\n",
       "    <tr style=\"text-align: right;\">\n",
       "      <th></th>\n",
       "      <th>20년</th>\n",
       "      <th>21년</th>\n",
       "      <th>21-20년증감률</th>\n",
       "    </tr>\n",
       "  </thead>\n",
       "  <tbody>\n",
       "    <tr>\n",
       "      <th>지원</th>\n",
       "      <td>521.0</td>\n",
       "      <td>512.0</td>\n",
       "      <td>-1.727447</td>\n",
       "    </tr>\n",
       "    <tr>\n",
       "      <th>코로나</th>\n",
       "      <td>357.0</td>\n",
       "      <td>270.0</td>\n",
       "      <td>-24.369748</td>\n",
       "    </tr>\n",
       "    <tr>\n",
       "      <th>교육</th>\n",
       "      <td>333.0</td>\n",
       "      <td>292.0</td>\n",
       "      <td>-12.312312</td>\n",
       "    </tr>\n",
       "    <tr>\n",
       "      <th>프로그램</th>\n",
       "      <td>315.0</td>\n",
       "      <td>304.0</td>\n",
       "      <td>-3.492063</td>\n",
       "    </tr>\n",
       "    <tr>\n",
       "      <th>파견</th>\n",
       "      <td>369.0</td>\n",
       "      <td>239.0</td>\n",
       "      <td>-35.230352</td>\n",
       "    </tr>\n",
       "    <tr>\n",
       "      <th>봉사단</th>\n",
       "      <td>343.0</td>\n",
       "      <td>235.0</td>\n",
       "      <td>-31.486880</td>\n",
       "    </tr>\n",
       "    <tr>\n",
       "      <th>제안</th>\n",
       "      <td>132.0</td>\n",
       "      <td>397.0</td>\n",
       "      <td>200.757576</td>\n",
       "    </tr>\n",
       "    <tr>\n",
       "      <th>단원</th>\n",
       "      <td>416.0</td>\n",
       "      <td>77.0</td>\n",
       "      <td>-81.490385</td>\n",
       "    </tr>\n",
       "    <tr>\n",
       "      <th>서류</th>\n",
       "      <td>95.0</td>\n",
       "      <td>361.0</td>\n",
       "      <td>280.000000</td>\n",
       "    </tr>\n",
       "    <tr>\n",
       "      <th>참여</th>\n",
       "      <td>165.0</td>\n",
       "      <td>284.0</td>\n",
       "      <td>72.121212</td>\n",
       "    </tr>\n",
       "    <tr>\n",
       "      <th>기간</th>\n",
       "      <td>207.0</td>\n",
       "      <td>239.0</td>\n",
       "      <td>15.458937</td>\n",
       "    </tr>\n",
       "    <tr>\n",
       "      <th>증명서</th>\n",
       "      <td>109.0</td>\n",
       "      <td>320.0</td>\n",
       "      <td>193.577982</td>\n",
       "    </tr>\n",
       "    <tr>\n",
       "      <th>직원</th>\n",
       "      <td>238.0</td>\n",
       "      <td>179.0</td>\n",
       "      <td>-24.789916</td>\n",
       "    </tr>\n",
       "    <tr>\n",
       "      <th>귀국</th>\n",
       "      <td>329.0</td>\n",
       "      <td>65.0</td>\n",
       "      <td>-80.243161</td>\n",
       "    </tr>\n",
       "    <tr>\n",
       "      <th>개발</th>\n",
       "      <td>205.0</td>\n",
       "      <td>175.0</td>\n",
       "      <td>-14.634146</td>\n",
       "    </tr>\n",
       "    <tr>\n",
       "      <th>일정</th>\n",
       "      <td>98.0</td>\n",
       "      <td>274.0</td>\n",
       "      <td>179.591837</td>\n",
       "    </tr>\n",
       "    <tr>\n",
       "      <th>국제</th>\n",
       "      <td>129.0</td>\n",
       "      <td>241.0</td>\n",
       "      <td>86.821705</td>\n",
       "    </tr>\n",
       "    <tr>\n",
       "      <th>수행</th>\n",
       "      <td>151.0</td>\n",
       "      <td>216.0</td>\n",
       "      <td>43.046358</td>\n",
       "    </tr>\n",
       "    <tr>\n",
       "      <th>제공</th>\n",
       "      <td>222.0</td>\n",
       "      <td>140.0</td>\n",
       "      <td>-36.936937</td>\n",
       "    </tr>\n",
       "    <tr>\n",
       "      <th>발급</th>\n",
       "      <td>103.0</td>\n",
       "      <td>257.0</td>\n",
       "      <td>149.514563</td>\n",
       "    </tr>\n",
       "  </tbody>\n",
       "</table>\n",
       "</div>"
      ],
      "text/plain": [
       "        20년    21년   21-20년증감률\n",
       "지원    521.0  512.0   -1.727447\n",
       "코로나   357.0  270.0  -24.369748\n",
       "교육    333.0  292.0  -12.312312\n",
       "프로그램  315.0  304.0   -3.492063\n",
       "파견    369.0  239.0  -35.230352\n",
       "봉사단   343.0  235.0  -31.486880\n",
       "제안    132.0  397.0  200.757576\n",
       "단원    416.0   77.0  -81.490385\n",
       "서류     95.0  361.0  280.000000\n",
       "참여    165.0  284.0   72.121212\n",
       "기간    207.0  239.0   15.458937\n",
       "증명서   109.0  320.0  193.577982\n",
       "직원    238.0  179.0  -24.789916\n",
       "귀국    329.0   65.0  -80.243161\n",
       "개발    205.0  175.0  -14.634146\n",
       "일정     98.0  274.0  179.591837\n",
       "국제    129.0  241.0   86.821705\n",
       "수행    151.0  216.0   43.046358\n",
       "제공    222.0  140.0  -36.936937\n",
       "발급    103.0  257.0  149.514563"
      ]
     },
     "execution_count": 11,
     "metadata": {},
     "output_type": "execute_result"
    }
   ],
   "source": [
    "df_2020 = pd.read_csv('2020년 키워드 분석 프로그램 샘플 빈도수 최종.csv', encoding='cp949')\n",
    "df_2021 = pd.read_csv('2021년 키워드 분석 프로그램 샘플 빈도수 최종.csv', encoding='cp949')\n",
    "df_2022 = pd.read_csv('2022년 키워드 분석 프로그램 샘플 빈도수 최종.csv', encoding='cp949')\n",
    "\n",
    "dff_2020=df_2020.set_index(\"Unnamed: 0\")# 인덱스를 첫 컬럼으로 설정\n",
    "dff_2021=df_2021.set_index(\"Unnamed: 0\")\n",
    "dff_2022=df_2022.set_index(\"Unnamed: 0\")\n",
    "\n",
    "dff_add=pd.concat([dff_2020, dff_2021]) # 두 데이터프레임 합치기\n",
    "\n",
    "dft=dff_add.T # 행과 열을 바꾸기\n",
    "\n",
    "dft_sum=dft.sum(axis='columns') # 컬럼 합계\n",
    "dft_sum.name='총합계' # 그 이름을 총합계로 설정\n",
    "dft_vf=pd.concat([dft['20년'], dft['21년'], dft_sum], axis=1) \n",
    "# dft 파일의 2020년, 2021년 컬럼과 총합계 컬럼을 한 파일로 병합\n",
    "dft_result=dft_vf.sort_values('총합계', ascending=False) \n",
    "# 총합계 컬럼 내림차순으로 정렬\n",
    "\n",
    "dft_result.to_csv('20,21년 키워드 분석 프로그램 샘플 빈도수 최종.csv',encoding='cp949') # csv 파일로 저장\n",
    "\n",
    "dft_20=dft_result.head(20) # 상위 20개 추출\n",
    "\n",
    "rate=(dft_20['21년']-dft_20['20년'])/dft_20['20년']*100 #증감률 계산\n",
    "rate.name='21-20년증감률' #rate의 컬럼이름 설정\n",
    "\n",
    "result=pd.concat([dft_20['20년'],dft_20['21년'], rate], axis=1) #concat 이어붙이기\n",
    "\n",
    "result.to_csv('20,21년 키워드 분석 프로그램 샘플 증감률 최종.csv', encoding='cp949') #저장\n",
    "\n",
    "result"
   ]
  },
  {
   "cell_type": "code",
   "execution_count": null,
   "id": "838c53a1",
   "metadata": {},
   "outputs": [],
   "source": []
  }
 ],
 "metadata": {
  "kernelspec": {
   "display_name": "Python 3 (ipykernel)",
   "language": "python",
   "name": "python3"
  },
  "language_info": {
   "codemirror_mode": {
    "name": "ipython",
    "version": 3
   },
   "file_extension": ".py",
   "mimetype": "text/x-python",
   "name": "python",
   "nbconvert_exporter": "python",
   "pygments_lexer": "ipython3",
   "version": "3.9.12"
  }
 },
 "nbformat": 4,
 "nbformat_minor": 5
}
